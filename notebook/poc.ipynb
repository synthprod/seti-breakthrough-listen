{
 "cells": [
  {
   "cell_type": "code",
   "execution_count": null,
   "metadata": {},
   "outputs": [],
   "source": [
    "\"\"\"\n",
    "評価指標: roc_auc\n",
    "最終締切: 2021年7月28日\n",
    "\n",
    "信号を注入した後、各スニペットを正規化するので、対応する配列の過剰なエネルギーを探すだけでは、ほとんどの針を識別することはできません。\n",
    "そのため、オンターゲットの観測データのみに現れるパターンを探すような、より繊細なアルゴリズムが必要になるでしょう。\n",
    "\n",
    "すべての「針」信号が斜線のように見えるわけではありませんし、\n",
    "3つの「A」観測のすべてに存在するわけではありませんが、共通しているのは、「A」観測の一部またはすべてにしか存在しないということです（ケイデンススニペットのパネル1、3、5）。\n",
    "あなたの課題は、干し草の山からの誤検出を最小限に抑えながら、できるだけ多くの針を見つけるアルゴリズムを訓練することです。\n",
    "\"\"\""
   ]
  },
  {
   "cell_type": "code",
   "execution_count": 1,
   "metadata": {},
   "outputs": [],
   "source": [
    "import pandas as pd\n",
    "import numpy as np\n",
    "import cv2\n",
    "import matplotlib.pyplot as plt\n",
    "import glob\n",
    "import os"
   ]
  },
  {
   "cell_type": "code",
   "execution_count": 2,
   "metadata": {},
   "outputs": [
    {
     "data": {
      "text/plain": [
       "(60000, 2)"
      ]
     },
     "execution_count": 2,
     "metadata": {},
     "output_type": "execute_result"
    }
   ],
   "source": [
    "df = pd.read_csv(\"../train_labels.csv\")\n",
    "df.shape"
   ]
  },
  {
   "cell_type": "code",
   "execution_count": 3,
   "metadata": {},
   "outputs": [
    {
     "data": {
      "text/html": [
       "<div>\n",
       "<style scoped>\n",
       "    .dataframe tbody tr th:only-of-type {\n",
       "        vertical-align: middle;\n",
       "    }\n",
       "\n",
       "    .dataframe tbody tr th {\n",
       "        vertical-align: top;\n",
       "    }\n",
       "\n",
       "    .dataframe thead th {\n",
       "        text-align: right;\n",
       "    }\n",
       "</style>\n",
       "<table border=\"1\" class=\"dataframe\">\n",
       "  <thead>\n",
       "    <tr style=\"text-align: right;\">\n",
       "      <th></th>\n",
       "      <th>id</th>\n",
       "      <th>target</th>\n",
       "    </tr>\n",
       "  </thead>\n",
       "  <tbody>\n",
       "    <tr>\n",
       "      <th>0</th>\n",
       "      <td>0000799a2b2c42d</td>\n",
       "      <td>0</td>\n",
       "    </tr>\n",
       "    <tr>\n",
       "      <th>1</th>\n",
       "      <td>00042890562ff68</td>\n",
       "      <td>0</td>\n",
       "    </tr>\n",
       "    <tr>\n",
       "      <th>2</th>\n",
       "      <td>0005364cdcb8e5b</td>\n",
       "      <td>0</td>\n",
       "    </tr>\n",
       "    <tr>\n",
       "      <th>3</th>\n",
       "      <td>0007a5a46901c56</td>\n",
       "      <td>0</td>\n",
       "    </tr>\n",
       "    <tr>\n",
       "      <th>4</th>\n",
       "      <td>0009283e145448e</td>\n",
       "      <td>0</td>\n",
       "    </tr>\n",
       "  </tbody>\n",
       "</table>\n",
       "</div>"
      ],
      "text/plain": [
       "                id  target\n",
       "0  0000799a2b2c42d       0\n",
       "1  00042890562ff68       0\n",
       "2  0005364cdcb8e5b       0\n",
       "3  0007a5a46901c56       0\n",
       "4  0009283e145448e       0"
      ]
     },
     "execution_count": 3,
     "metadata": {},
     "output_type": "execute_result"
    }
   ],
   "source": [
    "df.head()"
   ]
  },
  {
   "cell_type": "code",
   "execution_count": 4,
   "metadata": {},
   "outputs": [
    {
     "data": {
      "text/plain": [
       "0    54000\n",
       "1     6000\n",
       "Name: target, dtype: int64"
      ]
     },
     "execution_count": 4,
     "metadata": {},
     "output_type": "execute_result"
    }
   ],
   "source": [
    "# 1 file 1 target\n",
    "df[\"target\"].value_counts()"
   ]
  },
  {
   "cell_type": "code",
   "execution_count": 13,
   "metadata": {},
   "outputs": [
    {
     "data": {
      "text/plain": [
       "torch.Size([1, 256, 1638])"
      ]
     },
     "execution_count": 13,
     "metadata": {},
     "output_type": "execute_result"
    }
   ],
   "source": [
    "# augmentation test\n",
    "import albumentations as albu\n",
    "from albumentations.pytorch import ToTensorV2\n",
    "\n",
    "def get_augmentation(mode=\"train\"):\n",
    "    if mode == \"train\":\n",
    "        transform = [\n",
    "            ToTensorV2(),\n",
    "        ]\n",
    "    else:\n",
    "        transform = [\n",
    "            ToTensorV2(),\n",
    "        ]\n",
    "    return albu.Compose(transform)\n",
    "\n",
    "def data_augmentation(transform, image):\n",
    "    augmented = transform(image=image)\n",
    "    image = augmented['image']\n",
    "    return image\n",
    "\n",
    "transform = get_augmentation(\"train\")\n",
    "test = data_augmentation(transform, image)\n",
    "test.shape"
   ]
  },
  {
   "cell_type": "code",
   "execution_count": 5,
   "metadata": {},
   "outputs": [],
   "source": [
    "train_df = pd.read_csv(\"../train_labels.csv\")\n",
    "test_df = pd.read_csv(\"../sample_submission.csv\")\n",
    "\n",
    "def get_train_file_path(image_id):\n",
    "    return \"train/{}/{}.npy\".format(image_id[0], image_id)\n",
    "\n",
    "def get_test_file_path(image_id):\n",
    "    return \"test/{}/{}.npy\".format(image_id[0], image_id)\n",
    "\n",
    "train_df['file_path'] = train_df['id'].apply(get_train_file_path)\n",
    "test_df['file_path'] = test_df['id'].apply(get_test_file_path)"
   ]
  },
  {
   "cell_type": "code",
   "execution_count": 6,
   "metadata": {},
   "outputs": [
    {
     "data": {
      "text/plain": [
       "fold  target\n",
       "0     0         10800\n",
       "      1          1200\n",
       "1     0         10800\n",
       "      1          1200\n",
       "2     0         10800\n",
       "      1          1200\n",
       "3     0         10800\n",
       "      1          1200\n",
       "4     0         10800\n",
       "      1          1200\n",
       "dtype: int64"
      ]
     },
     "execution_count": 6,
     "metadata": {},
     "output_type": "execute_result"
    }
   ],
   "source": [
    "# CV Split\n",
    "from sklearn.model_selection import StratifiedKFold\n",
    "\n",
    "n_fold = 5\n",
    "kf = StratifiedKFold(n_splits=n_fold, shuffle=True, random_state=42)\n",
    "for n, (train_index, val_index) in enumerate(kf.split(train_df, train_df[\"target\"])):\n",
    "    train_df.loc[val_index, 'fold'] = int(n)\n",
    "train_df['fold'] = train_df['fold'].astype(int)\n",
    "train_df.groupby(['fold', 'target']).size()"
   ]
  },
  {
   "cell_type": "code",
   "execution_count": 7,
   "metadata": {},
   "outputs": [
    {
     "data": {
      "text/html": [
       "<div>\n",
       "<style scoped>\n",
       "    .dataframe tbody tr th:only-of-type {\n",
       "        vertical-align: middle;\n",
       "    }\n",
       "\n",
       "    .dataframe tbody tr th {\n",
       "        vertical-align: top;\n",
       "    }\n",
       "\n",
       "    .dataframe thead th {\n",
       "        text-align: right;\n",
       "    }\n",
       "</style>\n",
       "<table border=\"1\" class=\"dataframe\">\n",
       "  <thead>\n",
       "    <tr style=\"text-align: right;\">\n",
       "      <th></th>\n",
       "      <th>id</th>\n",
       "      <th>target</th>\n",
       "      <th>file_path</th>\n",
       "      <th>fold</th>\n",
       "    </tr>\n",
       "  </thead>\n",
       "  <tbody>\n",
       "    <tr>\n",
       "      <th>0</th>\n",
       "      <td>0000799a2b2c42d</td>\n",
       "      <td>0</td>\n",
       "      <td>train/0/0000799a2b2c42d.npy</td>\n",
       "      <td>2</td>\n",
       "    </tr>\n",
       "    <tr>\n",
       "      <th>1</th>\n",
       "      <td>00042890562ff68</td>\n",
       "      <td>0</td>\n",
       "      <td>train/0/00042890562ff68.npy</td>\n",
       "      <td>3</td>\n",
       "    </tr>\n",
       "    <tr>\n",
       "      <th>2</th>\n",
       "      <td>0005364cdcb8e5b</td>\n",
       "      <td>0</td>\n",
       "      <td>train/0/0005364cdcb8e5b.npy</td>\n",
       "      <td>3</td>\n",
       "    </tr>\n",
       "    <tr>\n",
       "      <th>3</th>\n",
       "      <td>0007a5a46901c56</td>\n",
       "      <td>0</td>\n",
       "      <td>train/0/0007a5a46901c56.npy</td>\n",
       "      <td>2</td>\n",
       "    </tr>\n",
       "    <tr>\n",
       "      <th>4</th>\n",
       "      <td>0009283e145448e</td>\n",
       "      <td>0</td>\n",
       "      <td>train/0/0009283e145448e.npy</td>\n",
       "      <td>2</td>\n",
       "    </tr>\n",
       "  </tbody>\n",
       "</table>\n",
       "</div>"
      ],
      "text/plain": [
       "                id  target                    file_path  fold\n",
       "0  0000799a2b2c42d       0  train/0/0000799a2b2c42d.npy     2\n",
       "1  00042890562ff68       0  train/0/00042890562ff68.npy     3\n",
       "2  0005364cdcb8e5b       0  train/0/0005364cdcb8e5b.npy     3\n",
       "3  0007a5a46901c56       0  train/0/0007a5a46901c56.npy     2\n",
       "4  0009283e145448e       0  train/0/0009283e145448e.npy     2"
      ]
     },
     "execution_count": 7,
     "metadata": {},
     "output_type": "execute_result"
    }
   ],
   "source": [
    "train_df.head()"
   ]
  },
  {
   "cell_type": "code",
   "execution_count": 8,
   "metadata": {},
   "outputs": [],
   "source": [
    "train_df.to_csv(\"../train_labels.csv\", index=False)"
   ]
  },
  {
   "cell_type": "code",
   "execution_count": 10,
   "metadata": {},
   "outputs": [],
   "source": [
    "test_df.to_csv(\"../sample_submission.csv\", index=False)"
   ]
  }
 ],
 "metadata": {
  "kernelspec": {
   "display_name": "Python 3",
   "language": "python",
   "name": "python3"
  },
  "language_info": {
   "codemirror_mode": {
    "name": "ipython",
    "version": 3
   },
   "file_extension": ".py",
   "mimetype": "text/x-python",
   "name": "python",
   "nbconvert_exporter": "python",
   "pygments_lexer": "ipython3",
   "version": "3.8.5"
  }
 },
 "nbformat": 4,
 "nbformat_minor": 4
}
